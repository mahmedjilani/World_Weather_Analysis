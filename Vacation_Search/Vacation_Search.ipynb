{
 "cells": [
  {
   "cell_type": "markdown",
   "metadata": {},
   "source": [
    "## Deliverable 2. Create a Customer Travel Destinations Map."
   ]
  },
  {
   "cell_type": "code",
   "execution_count": 121,
   "metadata": {},
   "outputs": [],
   "source": [
    "# Dependencies and Setup\n",
    "import pandas as pd\n",
    "import numpy as np\n",
    "import requests\n",
    "import gmaps\n",
    "import ipywidgets as widgets\n",
    "\n",
    "from config import g_key"
   ]
  },
  {
   "cell_type": "code",
   "execution_count": 122,
   "metadata": {},
   "outputs": [
    {
     "output_type": "execute_result",
     "data": {
      "text/plain": [
       "   City_ID            City Country      Lat       Lng  Max Temp  Humidity  \\\n",
       "0        0      Rock Sound      BS  24.9000  -76.2000     78.78        83   \n",
       "1        1  Saint-Philippe      RE -21.3585   55.7679     80.15        78   \n",
       "2        2       Ostrovnoy      RU  68.0531   39.5131     43.90        63   \n",
       "3        3          Takaka      NZ -40.8500  172.8000     57.56        96   \n",
       "4        4           Bayan      CN  46.0833  127.4000     69.55        51   \n",
       "\n",
       "   Cloudiness  Wind Speed Current Description  \n",
       "0          62       19.46       broken clouds  \n",
       "1          57        7.09          light rain  \n",
       "2          45       13.44    scattered clouds  \n",
       "3         100        5.44     overcast clouds  \n",
       "4          32        5.53    scattered clouds  "
      ],
      "text/html": "<div>\n<style scoped>\n    .dataframe tbody tr th:only-of-type {\n        vertical-align: middle;\n    }\n\n    .dataframe tbody tr th {\n        vertical-align: top;\n    }\n\n    .dataframe thead th {\n        text-align: right;\n    }\n</style>\n<table border=\"1\" class=\"dataframe\">\n  <thead>\n    <tr style=\"text-align: right;\">\n      <th></th>\n      <th>City_ID</th>\n      <th>City</th>\n      <th>Country</th>\n      <th>Lat</th>\n      <th>Lng</th>\n      <th>Max Temp</th>\n      <th>Humidity</th>\n      <th>Cloudiness</th>\n      <th>Wind Speed</th>\n      <th>Current Description</th>\n    </tr>\n  </thead>\n  <tbody>\n    <tr>\n      <th>0</th>\n      <td>0</td>\n      <td>Rock Sound</td>\n      <td>BS</td>\n      <td>24.9000</td>\n      <td>-76.2000</td>\n      <td>78.78</td>\n      <td>83</td>\n      <td>62</td>\n      <td>19.46</td>\n      <td>broken clouds</td>\n    </tr>\n    <tr>\n      <th>1</th>\n      <td>1</td>\n      <td>Saint-Philippe</td>\n      <td>RE</td>\n      <td>-21.3585</td>\n      <td>55.7679</td>\n      <td>80.15</td>\n      <td>78</td>\n      <td>57</td>\n      <td>7.09</td>\n      <td>light rain</td>\n    </tr>\n    <tr>\n      <th>2</th>\n      <td>2</td>\n      <td>Ostrovnoy</td>\n      <td>RU</td>\n      <td>68.0531</td>\n      <td>39.5131</td>\n      <td>43.90</td>\n      <td>63</td>\n      <td>45</td>\n      <td>13.44</td>\n      <td>scattered clouds</td>\n    </tr>\n    <tr>\n      <th>3</th>\n      <td>3</td>\n      <td>Takaka</td>\n      <td>NZ</td>\n      <td>-40.8500</td>\n      <td>172.8000</td>\n      <td>57.56</td>\n      <td>96</td>\n      <td>100</td>\n      <td>5.44</td>\n      <td>overcast clouds</td>\n    </tr>\n    <tr>\n      <th>4</th>\n      <td>4</td>\n      <td>Bayan</td>\n      <td>CN</td>\n      <td>46.0833</td>\n      <td>127.4000</td>\n      <td>69.55</td>\n      <td>51</td>\n      <td>32</td>\n      <td>5.53</td>\n      <td>scattered clouds</td>\n    </tr>\n  </tbody>\n</table>\n</div>"
     },
     "metadata": {},
     "execution_count": 122
    }
   ],
   "source": [
    "# 1. Import the WeatherPy_database.csv file. \n",
    "city_data_df = pd.read_csv(\"../Weather_Database/WeatherPy_database.csv\")\n",
    "city_data_df.head()"
   ]
  },
  {
   "cell_type": "code",
   "execution_count": 123,
   "metadata": {},
   "outputs": [],
   "source": [
    "# 2. Prompt the user to enter minimum and maximum temperature criteria \n",
    "min_temp = float(input('What is the minimum temperature you would like for your trip? '))\n",
    "max_temp = float(input('What is the maximum temperature you would like for your trip? '))"
   ]
  },
  {
   "cell_type": "code",
   "execution_count": 104,
   "metadata": {},
   "outputs": [
    {
     "output_type": "execute_result",
     "data": {
      "text/plain": [
       "     City_ID               City Country      Lat       Lng  Max Temp  \\\n",
       "0          0         Rock Sound      BS  24.9000  -76.2000     78.78   \n",
       "1          1     Saint-Philippe      RE -21.3585   55.7679     80.15   \n",
       "6          6         Butaritari      KI   3.0707  172.7902     82.60   \n",
       "8          8            Rikitea      PF -23.1203 -134.9692     75.90   \n",
       "9          9             Atuona      PF  -9.8000 -139.0333     79.20   \n",
       "..       ...                ...     ...      ...       ...       ...   \n",
       "720      720             Gornyy      RU  55.1153   83.9059     72.79   \n",
       "730      730  Troitsko-Pechorsk      RU  62.7084   56.1964     70.65   \n",
       "732      732      San Policarpo      PH  12.1791  125.5072     84.00   \n",
       "734      734        Henties Bay     NaN -22.1160   14.2845     75.22   \n",
       "735      735         La Reforma      MX  25.0833 -108.0500     77.25   \n",
       "\n",
       "     Humidity  Cloudiness  Wind Speed Current Description  \n",
       "0          83          62       19.46       broken clouds  \n",
       "1          78          57        7.09          light rain  \n",
       "6          72           4        2.91           clear sky  \n",
       "8          84         100       17.78          light rain  \n",
       "9          70          10       14.34           clear sky  \n",
       "..        ...         ...         ...                 ...  \n",
       "720        69         100       13.94          light rain  \n",
       "730        38          43        8.55    scattered clouds  \n",
       "732        76         100        1.99     overcast clouds  \n",
       "734        27           2       28.52           clear sky  \n",
       "735        65           0        4.05           clear sky  \n",
       "\n",
       "[335 rows x 10 columns]"
      ],
      "text/html": "<div>\n<style scoped>\n    .dataframe tbody tr th:only-of-type {\n        vertical-align: middle;\n    }\n\n    .dataframe tbody tr th {\n        vertical-align: top;\n    }\n\n    .dataframe thead th {\n        text-align: right;\n    }\n</style>\n<table border=\"1\" class=\"dataframe\">\n  <thead>\n    <tr style=\"text-align: right;\">\n      <th></th>\n      <th>City_ID</th>\n      <th>City</th>\n      <th>Country</th>\n      <th>Lat</th>\n      <th>Lng</th>\n      <th>Max Temp</th>\n      <th>Humidity</th>\n      <th>Cloudiness</th>\n      <th>Wind Speed</th>\n      <th>Current Description</th>\n    </tr>\n  </thead>\n  <tbody>\n    <tr>\n      <th>0</th>\n      <td>0</td>\n      <td>Rock Sound</td>\n      <td>BS</td>\n      <td>24.9000</td>\n      <td>-76.2000</td>\n      <td>78.78</td>\n      <td>83</td>\n      <td>62</td>\n      <td>19.46</td>\n      <td>broken clouds</td>\n    </tr>\n    <tr>\n      <th>1</th>\n      <td>1</td>\n      <td>Saint-Philippe</td>\n      <td>RE</td>\n      <td>-21.3585</td>\n      <td>55.7679</td>\n      <td>80.15</td>\n      <td>78</td>\n      <td>57</td>\n      <td>7.09</td>\n      <td>light rain</td>\n    </tr>\n    <tr>\n      <th>6</th>\n      <td>6</td>\n      <td>Butaritari</td>\n      <td>KI</td>\n      <td>3.0707</td>\n      <td>172.7902</td>\n      <td>82.60</td>\n      <td>72</td>\n      <td>4</td>\n      <td>2.91</td>\n      <td>clear sky</td>\n    </tr>\n    <tr>\n      <th>8</th>\n      <td>8</td>\n      <td>Rikitea</td>\n      <td>PF</td>\n      <td>-23.1203</td>\n      <td>-134.9692</td>\n      <td>75.90</td>\n      <td>84</td>\n      <td>100</td>\n      <td>17.78</td>\n      <td>light rain</td>\n    </tr>\n    <tr>\n      <th>9</th>\n      <td>9</td>\n      <td>Atuona</td>\n      <td>PF</td>\n      <td>-9.8000</td>\n      <td>-139.0333</td>\n      <td>79.20</td>\n      <td>70</td>\n      <td>10</td>\n      <td>14.34</td>\n      <td>clear sky</td>\n    </tr>\n    <tr>\n      <th>...</th>\n      <td>...</td>\n      <td>...</td>\n      <td>...</td>\n      <td>...</td>\n      <td>...</td>\n      <td>...</td>\n      <td>...</td>\n      <td>...</td>\n      <td>...</td>\n      <td>...</td>\n    </tr>\n    <tr>\n      <th>720</th>\n      <td>720</td>\n      <td>Gornyy</td>\n      <td>RU</td>\n      <td>55.1153</td>\n      <td>83.9059</td>\n      <td>72.79</td>\n      <td>69</td>\n      <td>100</td>\n      <td>13.94</td>\n      <td>light rain</td>\n    </tr>\n    <tr>\n      <th>730</th>\n      <td>730</td>\n      <td>Troitsko-Pechorsk</td>\n      <td>RU</td>\n      <td>62.7084</td>\n      <td>56.1964</td>\n      <td>70.65</td>\n      <td>38</td>\n      <td>43</td>\n      <td>8.55</td>\n      <td>scattered clouds</td>\n    </tr>\n    <tr>\n      <th>732</th>\n      <td>732</td>\n      <td>San Policarpo</td>\n      <td>PH</td>\n      <td>12.1791</td>\n      <td>125.5072</td>\n      <td>84.00</td>\n      <td>76</td>\n      <td>100</td>\n      <td>1.99</td>\n      <td>overcast clouds</td>\n    </tr>\n    <tr>\n      <th>734</th>\n      <td>734</td>\n      <td>Henties Bay</td>\n      <td>NaN</td>\n      <td>-22.1160</td>\n      <td>14.2845</td>\n      <td>75.22</td>\n      <td>27</td>\n      <td>2</td>\n      <td>28.52</td>\n      <td>clear sky</td>\n    </tr>\n    <tr>\n      <th>735</th>\n      <td>735</td>\n      <td>La Reforma</td>\n      <td>MX</td>\n      <td>25.0833</td>\n      <td>-108.0500</td>\n      <td>77.25</td>\n      <td>65</td>\n      <td>0</td>\n      <td>4.05</td>\n      <td>clear sky</td>\n    </tr>\n  </tbody>\n</table>\n<p>335 rows × 10 columns</p>\n</div>"
     },
     "metadata": {},
     "execution_count": 104
    }
   ],
   "source": [
    "# 3. Filter the city_data_df DataFrame using the input statements to create a new DataFrame using the loc method.\n",
    "clean_df = city_data_df.loc[(city_data_df['Max Temp'] <= max_temp) & \\\n",
    "                                       (city_data_df['Max Temp'] >= min_temp)]\n",
    "clean_df"
   ]
  },
  {
   "cell_type": "code",
   "execution_count": 105,
   "metadata": {},
   "outputs": [
    {
     "output_type": "execute_result",
     "data": {
      "text/plain": [
       "City_ID                0\n",
       "City                   0\n",
       "Country                3\n",
       "Lat                    0\n",
       "Lng                    0\n",
       "Max Temp               0\n",
       "Humidity               0\n",
       "Cloudiness             0\n",
       "Wind Speed             0\n",
       "Current Description    0\n",
       "dtype: int64"
      ]
     },
     "metadata": {},
     "execution_count": 105
    }
   ],
   "source": [
    "# 4a. Determine if there are any empty rows.\n",
    "clean_df.isnull().sum()"
   ]
  },
  {
   "cell_type": "code",
   "execution_count": 106,
   "metadata": {},
   "outputs": [
    {
     "output_type": "execute_result",
     "data": {
      "text/plain": [
       "     City_ID               City Country      Lat       Lng  Max Temp  \\\n",
       "0          0         Rock Sound      BS  24.9000  -76.2000     78.78   \n",
       "1          1     Saint-Philippe      RE -21.3585   55.7679     80.15   \n",
       "6          6         Butaritari      KI   3.0707  172.7902     82.60   \n",
       "8          8            Rikitea      PF -23.1203 -134.9692     75.90   \n",
       "9          9             Atuona      PF  -9.8000 -139.0333     79.20   \n",
       "..       ...                ...     ...      ...       ...       ...   \n",
       "719      719             Matara      LK   5.9485   80.5353     86.61   \n",
       "720      720             Gornyy      RU  55.1153   83.9059     72.79   \n",
       "730      730  Troitsko-Pechorsk      RU  62.7084   56.1964     70.65   \n",
       "732      732      San Policarpo      PH  12.1791  125.5072     84.00   \n",
       "735      735         La Reforma      MX  25.0833 -108.0500     77.25   \n",
       "\n",
       "     Humidity  Cloudiness  Wind Speed Current Description  \n",
       "0          83          62       19.46       broken clouds  \n",
       "1          78          57        7.09          light rain  \n",
       "6          72           4        2.91           clear sky  \n",
       "8          84         100       17.78          light rain  \n",
       "9          70          10       14.34           clear sky  \n",
       "..        ...         ...         ...                 ...  \n",
       "719        65          99       13.51     overcast clouds  \n",
       "720        69         100       13.94          light rain  \n",
       "730        38          43        8.55    scattered clouds  \n",
       "732        76         100        1.99     overcast clouds  \n",
       "735        65           0        4.05           clear sky  \n",
       "\n",
       "[332 rows x 10 columns]"
      ],
      "text/html": "<div>\n<style scoped>\n    .dataframe tbody tr th:only-of-type {\n        vertical-align: middle;\n    }\n\n    .dataframe tbody tr th {\n        vertical-align: top;\n    }\n\n    .dataframe thead th {\n        text-align: right;\n    }\n</style>\n<table border=\"1\" class=\"dataframe\">\n  <thead>\n    <tr style=\"text-align: right;\">\n      <th></th>\n      <th>City_ID</th>\n      <th>City</th>\n      <th>Country</th>\n      <th>Lat</th>\n      <th>Lng</th>\n      <th>Max Temp</th>\n      <th>Humidity</th>\n      <th>Cloudiness</th>\n      <th>Wind Speed</th>\n      <th>Current Description</th>\n    </tr>\n  </thead>\n  <tbody>\n    <tr>\n      <th>0</th>\n      <td>0</td>\n      <td>Rock Sound</td>\n      <td>BS</td>\n      <td>24.9000</td>\n      <td>-76.2000</td>\n      <td>78.78</td>\n      <td>83</td>\n      <td>62</td>\n      <td>19.46</td>\n      <td>broken clouds</td>\n    </tr>\n    <tr>\n      <th>1</th>\n      <td>1</td>\n      <td>Saint-Philippe</td>\n      <td>RE</td>\n      <td>-21.3585</td>\n      <td>55.7679</td>\n      <td>80.15</td>\n      <td>78</td>\n      <td>57</td>\n      <td>7.09</td>\n      <td>light rain</td>\n    </tr>\n    <tr>\n      <th>6</th>\n      <td>6</td>\n      <td>Butaritari</td>\n      <td>KI</td>\n      <td>3.0707</td>\n      <td>172.7902</td>\n      <td>82.60</td>\n      <td>72</td>\n      <td>4</td>\n      <td>2.91</td>\n      <td>clear sky</td>\n    </tr>\n    <tr>\n      <th>8</th>\n      <td>8</td>\n      <td>Rikitea</td>\n      <td>PF</td>\n      <td>-23.1203</td>\n      <td>-134.9692</td>\n      <td>75.90</td>\n      <td>84</td>\n      <td>100</td>\n      <td>17.78</td>\n      <td>light rain</td>\n    </tr>\n    <tr>\n      <th>9</th>\n      <td>9</td>\n      <td>Atuona</td>\n      <td>PF</td>\n      <td>-9.8000</td>\n      <td>-139.0333</td>\n      <td>79.20</td>\n      <td>70</td>\n      <td>10</td>\n      <td>14.34</td>\n      <td>clear sky</td>\n    </tr>\n    <tr>\n      <th>...</th>\n      <td>...</td>\n      <td>...</td>\n      <td>...</td>\n      <td>...</td>\n      <td>...</td>\n      <td>...</td>\n      <td>...</td>\n      <td>...</td>\n      <td>...</td>\n      <td>...</td>\n    </tr>\n    <tr>\n      <th>719</th>\n      <td>719</td>\n      <td>Matara</td>\n      <td>LK</td>\n      <td>5.9485</td>\n      <td>80.5353</td>\n      <td>86.61</td>\n      <td>65</td>\n      <td>99</td>\n      <td>13.51</td>\n      <td>overcast clouds</td>\n    </tr>\n    <tr>\n      <th>720</th>\n      <td>720</td>\n      <td>Gornyy</td>\n      <td>RU</td>\n      <td>55.1153</td>\n      <td>83.9059</td>\n      <td>72.79</td>\n      <td>69</td>\n      <td>100</td>\n      <td>13.94</td>\n      <td>light rain</td>\n    </tr>\n    <tr>\n      <th>730</th>\n      <td>730</td>\n      <td>Troitsko-Pechorsk</td>\n      <td>RU</td>\n      <td>62.7084</td>\n      <td>56.1964</td>\n      <td>70.65</td>\n      <td>38</td>\n      <td>43</td>\n      <td>8.55</td>\n      <td>scattered clouds</td>\n    </tr>\n    <tr>\n      <th>732</th>\n      <td>732</td>\n      <td>San Policarpo</td>\n      <td>PH</td>\n      <td>12.1791</td>\n      <td>125.5072</td>\n      <td>84.00</td>\n      <td>76</td>\n      <td>100</td>\n      <td>1.99</td>\n      <td>overcast clouds</td>\n    </tr>\n    <tr>\n      <th>735</th>\n      <td>735</td>\n      <td>La Reforma</td>\n      <td>MX</td>\n      <td>25.0833</td>\n      <td>-108.0500</td>\n      <td>77.25</td>\n      <td>65</td>\n      <td>0</td>\n      <td>4.05</td>\n      <td>clear sky</td>\n    </tr>\n  </tbody>\n</table>\n<p>332 rows × 10 columns</p>\n</div>"
     },
     "metadata": {},
     "execution_count": 106
    }
   ],
   "source": [
    "# 4b. Drop any empty rows and create a new DataFrame that doesn’t have empty rows.\n",
    "clean_df = clean_df.dropna()\n",
    "clean_df"
   ]
  },
  {
   "cell_type": "code",
   "execution_count": 107,
   "metadata": {},
   "outputs": [
    {
     "output_type": "execute_result",
     "data": {
      "text/plain": [
       "                  City Country  Max Temp Current Description      Lat  \\\n",
       "0           Rock Sound      BS     78.78       broken clouds  24.9000   \n",
       "1       Saint-Philippe      RE     80.15          light rain -21.3585   \n",
       "6           Butaritari      KI     82.60           clear sky   3.0707   \n",
       "8              Rikitea      PF     75.90          light rain -23.1203   \n",
       "9               Atuona      PF     79.20           clear sky  -9.8000   \n",
       "..                 ...     ...       ...                 ...      ...   \n",
       "719             Matara      LK     86.61     overcast clouds   5.9485   \n",
       "720             Gornyy      RU     72.79          light rain  55.1153   \n",
       "730  Troitsko-Pechorsk      RU     70.65    scattered clouds  62.7084   \n",
       "732      San Policarpo      PH     84.00     overcast clouds  12.1791   \n",
       "735         La Reforma      MX     77.25           clear sky  25.0833   \n",
       "\n",
       "          Lng Hotel Name  \n",
       "0    -76.2000             \n",
       "1     55.7679             \n",
       "6    172.7902             \n",
       "8   -134.9692             \n",
       "9   -139.0333             \n",
       "..        ...        ...  \n",
       "719   80.5353             \n",
       "720   83.9059             \n",
       "730   56.1964             \n",
       "732  125.5072             \n",
       "735 -108.0500             \n",
       "\n",
       "[332 rows x 7 columns]"
      ],
      "text/html": "<div>\n<style scoped>\n    .dataframe tbody tr th:only-of-type {\n        vertical-align: middle;\n    }\n\n    .dataframe tbody tr th {\n        vertical-align: top;\n    }\n\n    .dataframe thead th {\n        text-align: right;\n    }\n</style>\n<table border=\"1\" class=\"dataframe\">\n  <thead>\n    <tr style=\"text-align: right;\">\n      <th></th>\n      <th>City</th>\n      <th>Country</th>\n      <th>Max Temp</th>\n      <th>Current Description</th>\n      <th>Lat</th>\n      <th>Lng</th>\n      <th>Hotel Name</th>\n    </tr>\n  </thead>\n  <tbody>\n    <tr>\n      <th>0</th>\n      <td>Rock Sound</td>\n      <td>BS</td>\n      <td>78.78</td>\n      <td>broken clouds</td>\n      <td>24.9000</td>\n      <td>-76.2000</td>\n      <td></td>\n    </tr>\n    <tr>\n      <th>1</th>\n      <td>Saint-Philippe</td>\n      <td>RE</td>\n      <td>80.15</td>\n      <td>light rain</td>\n      <td>-21.3585</td>\n      <td>55.7679</td>\n      <td></td>\n    </tr>\n    <tr>\n      <th>6</th>\n      <td>Butaritari</td>\n      <td>KI</td>\n      <td>82.60</td>\n      <td>clear sky</td>\n      <td>3.0707</td>\n      <td>172.7902</td>\n      <td></td>\n    </tr>\n    <tr>\n      <th>8</th>\n      <td>Rikitea</td>\n      <td>PF</td>\n      <td>75.90</td>\n      <td>light rain</td>\n      <td>-23.1203</td>\n      <td>-134.9692</td>\n      <td></td>\n    </tr>\n    <tr>\n      <th>9</th>\n      <td>Atuona</td>\n      <td>PF</td>\n      <td>79.20</td>\n      <td>clear sky</td>\n      <td>-9.8000</td>\n      <td>-139.0333</td>\n      <td></td>\n    </tr>\n    <tr>\n      <th>...</th>\n      <td>...</td>\n      <td>...</td>\n      <td>...</td>\n      <td>...</td>\n      <td>...</td>\n      <td>...</td>\n      <td>...</td>\n    </tr>\n    <tr>\n      <th>719</th>\n      <td>Matara</td>\n      <td>LK</td>\n      <td>86.61</td>\n      <td>overcast clouds</td>\n      <td>5.9485</td>\n      <td>80.5353</td>\n      <td></td>\n    </tr>\n    <tr>\n      <th>720</th>\n      <td>Gornyy</td>\n      <td>RU</td>\n      <td>72.79</td>\n      <td>light rain</td>\n      <td>55.1153</td>\n      <td>83.9059</td>\n      <td></td>\n    </tr>\n    <tr>\n      <th>730</th>\n      <td>Troitsko-Pechorsk</td>\n      <td>RU</td>\n      <td>70.65</td>\n      <td>scattered clouds</td>\n      <td>62.7084</td>\n      <td>56.1964</td>\n      <td></td>\n    </tr>\n    <tr>\n      <th>732</th>\n      <td>San Policarpo</td>\n      <td>PH</td>\n      <td>84.00</td>\n      <td>overcast clouds</td>\n      <td>12.1791</td>\n      <td>125.5072</td>\n      <td></td>\n    </tr>\n    <tr>\n      <th>735</th>\n      <td>La Reforma</td>\n      <td>MX</td>\n      <td>77.25</td>\n      <td>clear sky</td>\n      <td>25.0833</td>\n      <td>-108.0500</td>\n      <td></td>\n    </tr>\n  </tbody>\n</table>\n<p>332 rows × 7 columns</p>\n</div>"
     },
     "metadata": {},
     "execution_count": 107
    }
   ],
   "source": [
    "# 5a. Create DataFrame called hotel_df to store hotel names along with city, country, max temp, and coordinates.\n",
    "clean_hotel_df = clean_df[[\"City\", \"Country\", \"Max Temp\", \"Current Description\", \"Lat\", \"Lng\"]].copy()\n",
    "\n",
    "# 5b. Create a new column \"Hotel Name\"\n",
    "clean_hotel_df[\"Hotel Name\"] = \"\"\n",
    "clean_hotel_df"
   ]
  },
  {
   "cell_type": "code",
   "execution_count": 108,
   "metadata": {},
   "outputs": [],
   "source": [
    "\n",
    "# 6a. Set parameters to search for hotels with 5000 meters.\n",
    "params = {\n",
    "    \"radius\": 5000,\n",
    "    \"type\": \"lodging\",\n",
    "    \"key\": g_key\n",
    "}\n",
    "\n",
    "# 6b. Iterate through the hotel DataFrame.\n",
    "for index, row in clean_hotel_df.iterrows():\n",
    "    # 6c. Get latitude and longitude from DataFrame\n",
    "    lat = row['Lat']\n",
    "    lng = row['Lng']\n",
    "    \n",
    "    params['location'] = f\"{lat},{lng}\"\n",
    "    \n",
    "    # 6d. Set up the base URL for the Google Directions API to get JSON data.\n",
    "    base_url = 'https://maps.googleapis.com/maps/api/place/nearbysearch/json'\n",
    "\n",
    "    # 6e. Make request and retrieve the JSON data from the search. \n",
    "    hotels = requests.get(base_url, params=params).json()\n",
    "    # 6f. Get the first hotel from the results and store the name, if a hotel isn't found skip the city.\n",
    "    try:\n",
    "        clean_hotel_df.loc[index, 'Hotel Name'] = hotels['results'][0]['name']\n",
    "    except (IndexError):\n",
    "        clean_hotel_df['Hotel Name'].replace('', np.nan, inplace=True)\n",
    "        "
   ]
  },
  {
   "cell_type": "code",
   "execution_count": 110,
   "metadata": {},
   "outputs": [
    {
     "output_type": "execute_result",
     "data": {
      "text/plain": [
       "                  City Country  Max Temp Current Description      Lat  \\\n",
       "0           Rock Sound      BS     78.78       broken clouds  24.9000   \n",
       "1       Saint-Philippe      RE     80.15          light rain -21.3585   \n",
       "6           Butaritari      KI     82.60           clear sky   3.0707   \n",
       "8              Rikitea      PF     75.90          light rain -23.1203   \n",
       "9               Atuona      PF     79.20           clear sky  -9.8000   \n",
       "..                 ...     ...       ...                 ...      ...   \n",
       "719             Matara      LK     86.61     overcast clouds   5.9485   \n",
       "720             Gornyy      RU     72.79          light rain  55.1153   \n",
       "730  Troitsko-Pechorsk      RU     70.65    scattered clouds  62.7084   \n",
       "732      San Policarpo      PH     84.00     overcast clouds  12.1791   \n",
       "735         La Reforma      MX     77.25           clear sky  25.0833   \n",
       "\n",
       "          Lng                    Hotel Name  \n",
       "0    -76.2000               Rock Sound Club  \n",
       "1     55.7679  Chambres d'hôte \"La Trinité\"  \n",
       "6    172.7902            Isles Sunset Lodge  \n",
       "8   -134.9692                Pension Maro'i  \n",
       "9   -139.0333                   Villa Enata  \n",
       "..        ...                           ...  \n",
       "719   80.5353        Amaloh Boutique Resort  \n",
       "720   83.9059                 Gostinyy Dvor  \n",
       "730   56.1964            Pechora Gostinitsa  \n",
       "732  125.5072                      JM Lodge  \n",
       "735 -108.0500                 Hotel Reforma  \n",
       "\n",
       "[299 rows x 7 columns]"
      ],
      "text/html": "<div>\n<style scoped>\n    .dataframe tbody tr th:only-of-type {\n        vertical-align: middle;\n    }\n\n    .dataframe tbody tr th {\n        vertical-align: top;\n    }\n\n    .dataframe thead th {\n        text-align: right;\n    }\n</style>\n<table border=\"1\" class=\"dataframe\">\n  <thead>\n    <tr style=\"text-align: right;\">\n      <th></th>\n      <th>City</th>\n      <th>Country</th>\n      <th>Max Temp</th>\n      <th>Current Description</th>\n      <th>Lat</th>\n      <th>Lng</th>\n      <th>Hotel Name</th>\n    </tr>\n  </thead>\n  <tbody>\n    <tr>\n      <th>0</th>\n      <td>Rock Sound</td>\n      <td>BS</td>\n      <td>78.78</td>\n      <td>broken clouds</td>\n      <td>24.9000</td>\n      <td>-76.2000</td>\n      <td>Rock Sound Club</td>\n    </tr>\n    <tr>\n      <th>1</th>\n      <td>Saint-Philippe</td>\n      <td>RE</td>\n      <td>80.15</td>\n      <td>light rain</td>\n      <td>-21.3585</td>\n      <td>55.7679</td>\n      <td>Chambres d'hôte \"La Trinité\"</td>\n    </tr>\n    <tr>\n      <th>6</th>\n      <td>Butaritari</td>\n      <td>KI</td>\n      <td>82.60</td>\n      <td>clear sky</td>\n      <td>3.0707</td>\n      <td>172.7902</td>\n      <td>Isles Sunset Lodge</td>\n    </tr>\n    <tr>\n      <th>8</th>\n      <td>Rikitea</td>\n      <td>PF</td>\n      <td>75.90</td>\n      <td>light rain</td>\n      <td>-23.1203</td>\n      <td>-134.9692</td>\n      <td>Pension Maro'i</td>\n    </tr>\n    <tr>\n      <th>9</th>\n      <td>Atuona</td>\n      <td>PF</td>\n      <td>79.20</td>\n      <td>clear sky</td>\n      <td>-9.8000</td>\n      <td>-139.0333</td>\n      <td>Villa Enata</td>\n    </tr>\n    <tr>\n      <th>...</th>\n      <td>...</td>\n      <td>...</td>\n      <td>...</td>\n      <td>...</td>\n      <td>...</td>\n      <td>...</td>\n      <td>...</td>\n    </tr>\n    <tr>\n      <th>719</th>\n      <td>Matara</td>\n      <td>LK</td>\n      <td>86.61</td>\n      <td>overcast clouds</td>\n      <td>5.9485</td>\n      <td>80.5353</td>\n      <td>Amaloh Boutique Resort</td>\n    </tr>\n    <tr>\n      <th>720</th>\n      <td>Gornyy</td>\n      <td>RU</td>\n      <td>72.79</td>\n      <td>light rain</td>\n      <td>55.1153</td>\n      <td>83.9059</td>\n      <td>Gostinyy Dvor</td>\n    </tr>\n    <tr>\n      <th>730</th>\n      <td>Troitsko-Pechorsk</td>\n      <td>RU</td>\n      <td>70.65</td>\n      <td>scattered clouds</td>\n      <td>62.7084</td>\n      <td>56.1964</td>\n      <td>Pechora Gostinitsa</td>\n    </tr>\n    <tr>\n      <th>732</th>\n      <td>San Policarpo</td>\n      <td>PH</td>\n      <td>84.00</td>\n      <td>overcast clouds</td>\n      <td>12.1791</td>\n      <td>125.5072</td>\n      <td>JM Lodge</td>\n    </tr>\n    <tr>\n      <th>735</th>\n      <td>La Reforma</td>\n      <td>MX</td>\n      <td>77.25</td>\n      <td>clear sky</td>\n      <td>25.0833</td>\n      <td>-108.0500</td>\n      <td>Hotel Reforma</td>\n    </tr>\n  </tbody>\n</table>\n<p>299 rows × 7 columns</p>\n</div>"
     },
     "metadata": {},
     "execution_count": 110
    }
   ],
   "source": [
    "# 7. Drop the rows where there is no Hotel Name.\n",
    "clean_hotel_df = clean_hotel_df.dropna()\n",
    "clean_hotel_df"
   ]
  },
  {
   "cell_type": "code",
   "execution_count": 111,
   "metadata": {},
   "outputs": [],
   "source": [
    "# 8a. Create the output File (CSV)\n",
    "output_data_file = \"../Vacation_Search/WeatherPy_vacation.csv\"\n",
    "# 8b. Export the City_Data into a csv\n",
    "clean_hotel_df.to_csv(output_data_file, index_label=\"City_ID\")"
   ]
  },
  {
   "cell_type": "code",
   "execution_count": 125,
   "metadata": {},
   "outputs": [],
   "source": [
    "# 9. Using the template add city name, the country code, the weather description and maximum temperature for the city.\n",
    "info_box_template = \"\"\"\n",
    "<dl>\n",
    "<dt>Hotel Name</dt><dd>{Hotel Name}</dd>\n",
    "<dt>City</dt><dd>{City}</dd>\n",
    "<dt>Country</dt><dd>{Country}</dd>\n",
    "<dt>Current Weather</dt><dd>{Current Description} and {Max Temp} °F</dd>\n",
    "</dl>\n",
    "\"\"\"\n",
    "\n",
    "# 10a. Get the data from each row and add it to the formatting template and store the data in a list.\n",
    "hotel_info = [info_box_template.format(**row) for index, row in clean_hotel_df.iterrows()]\n",
    "\n",
    "# 10b. Get the latitude and longitude from each row and store in a new DataFrame.\n",
    "locations = clean_hotel_df[[\"Lat\", \"Lng\"]]\n"
   ]
  },
  {
   "cell_type": "code",
   "execution_count": 124,
   "metadata": {},
   "outputs": [
    {
     "output_type": "display_data",
     "data": {
      "text/plain": "Figure(layout=FigureLayout(height='420px'))",
      "application/vnd.jupyter.widget-view+json": {
       "version_major": 2,
       "version_minor": 0,
       "model_id": "02d3841ce9a94fb58fbd4e2ac37af349"
      }
     },
     "metadata": {}
    }
   ],
   "source": [
    "# 11a. Add a marker layer for each city to the map. \n",
    "marker_layer = gmaps.marker_layer(locations, info_box_content=hotel_info)\n",
    "fig = gmaps.figure()\n",
    "fig.add_layer(marker_layer)\n",
    "\n",
    "# 11b. Display the figure\n",
    "fig"
   ]
  },
  {
   "cell_type": "code",
   "execution_count": null,
   "metadata": {},
   "outputs": [],
   "source": []
  }
 ],
 "metadata": {
  "kernelspec": {
   "name": "python388jvsc74a57bd0abd55cbd258d1d0519969bf83e4573c2aef1f2a7b9f7ee6c8f141277a53d5580",
   "display_name": "Python 3.8.8 64-bit ('PythonData': conda)"
  },
  "language_info": {
   "codemirror_mode": {
    "name": "ipython",
    "version": 3
   },
   "file_extension": ".py",
   "mimetype": "text/x-python",
   "name": "python",
   "nbconvert_exporter": "python",
   "pygments_lexer": "ipython3",
   "version": "3.8.8"
  },
  "latex_envs": {
   "LaTeX_envs_menu_present": true,
   "autoclose": false,
   "autocomplete": true,
   "bibliofile": "biblio.bib",
   "cite_by": "apalike",
   "current_citInitial": 1,
   "eqLabelWithNumbers": true,
   "eqNumInitial": 1,
   "hotkeys": {
    "equation": "Ctrl-E",
    "itemize": "Ctrl-I"
   },
   "labels_anchors": false,
   "latex_user_defs": false,
   "report_style_numbering": false,
   "user_envs_cfg": false
  }
 },
 "nbformat": 4,
 "nbformat_minor": 2
}