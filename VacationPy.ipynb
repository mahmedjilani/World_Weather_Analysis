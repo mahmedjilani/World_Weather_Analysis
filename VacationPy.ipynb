{
 "metadata": {
  "language_info": {
   "codemirror_mode": {
    "name": "ipython",
    "version": 3
   },
   "file_extension": ".py",
   "mimetype": "text/x-python",
   "name": "python",
   "nbconvert_exporter": "python",
   "pygments_lexer": "ipython3",
   "version": "3.8.8"
  },
  "orig_nbformat": 2,
  "kernelspec": {
   "name": "python388jvsc74a57bd0abd55cbd258d1d0519969bf83e4573c2aef1f2a7b9f7ee6c8f141277a53d5580",
   "display_name": "Python 3.8.8 64-bit ('PythonData': conda)"
  }
 },
 "nbformat": 4,
 "nbformat_minor": 2,
 "cells": [
  {
   "cell_type": "code",
   "execution_count": 8,
   "metadata": {},
   "outputs": [],
   "source": [
    "#import dependencies\n",
    "import pandas as pd\n",
    "import gmaps\n",
    "import requests\n",
    "import ipywidgets as widgets\n",
    "\n",
    "#Import API key\n",
    "from config import g_key"
   ]
  },
  {
   "cell_type": "code",
   "execution_count": 9,
   "metadata": {},
   "outputs": [
    {
     "output_type": "execute_result",
     "data": {
      "text/plain": [
       "   City_ID        City Country                 Date      Lat       Lng  \\\n",
       "0        0       Kapaa      US  2021-06-06 05:59:15  22.0752 -159.3190   \n",
       "1        1       Kayes      ML  2021-06-06 05:59:16  14.0000  -11.0000   \n",
       "2        2  Bredasdorp      ZA  2021-06-06 05:59:16 -34.5322   20.0403   \n",
       "3        3      Trelew      AR  2021-06-06 05:57:23 -43.2490  -65.3051   \n",
       "4        4     Ushuaia      AR  2021-06-06 05:56:11 -54.8000  -68.3000   \n",
       "\n",
       "   Max Temp  Humidity  Cloudiness  Wind Speed  \n",
       "0     77.11        76          12        3.00  \n",
       "1     86.22        46          20       12.50  \n",
       "2     43.92        70           4        6.24  \n",
       "3     41.25        62           1        8.50  \n",
       "4     29.86        93           0        8.05  "
      ],
      "text/html": "<div>\n<style scoped>\n    .dataframe tbody tr th:only-of-type {\n        vertical-align: middle;\n    }\n\n    .dataframe tbody tr th {\n        vertical-align: top;\n    }\n\n    .dataframe thead th {\n        text-align: right;\n    }\n</style>\n<table border=\"1\" class=\"dataframe\">\n  <thead>\n    <tr style=\"text-align: right;\">\n      <th></th>\n      <th>City_ID</th>\n      <th>City</th>\n      <th>Country</th>\n      <th>Date</th>\n      <th>Lat</th>\n      <th>Lng</th>\n      <th>Max Temp</th>\n      <th>Humidity</th>\n      <th>Cloudiness</th>\n      <th>Wind Speed</th>\n    </tr>\n  </thead>\n  <tbody>\n    <tr>\n      <th>0</th>\n      <td>0</td>\n      <td>Kapaa</td>\n      <td>US</td>\n      <td>2021-06-06 05:59:15</td>\n      <td>22.0752</td>\n      <td>-159.3190</td>\n      <td>77.11</td>\n      <td>76</td>\n      <td>12</td>\n      <td>3.00</td>\n    </tr>\n    <tr>\n      <th>1</th>\n      <td>1</td>\n      <td>Kayes</td>\n      <td>ML</td>\n      <td>2021-06-06 05:59:16</td>\n      <td>14.0000</td>\n      <td>-11.0000</td>\n      <td>86.22</td>\n      <td>46</td>\n      <td>20</td>\n      <td>12.50</td>\n    </tr>\n    <tr>\n      <th>2</th>\n      <td>2</td>\n      <td>Bredasdorp</td>\n      <td>ZA</td>\n      <td>2021-06-06 05:59:16</td>\n      <td>-34.5322</td>\n      <td>20.0403</td>\n      <td>43.92</td>\n      <td>70</td>\n      <td>4</td>\n      <td>6.24</td>\n    </tr>\n    <tr>\n      <th>3</th>\n      <td>3</td>\n      <td>Trelew</td>\n      <td>AR</td>\n      <td>2021-06-06 05:57:23</td>\n      <td>-43.2490</td>\n      <td>-65.3051</td>\n      <td>41.25</td>\n      <td>62</td>\n      <td>1</td>\n      <td>8.50</td>\n    </tr>\n    <tr>\n      <th>4</th>\n      <td>4</td>\n      <td>Ushuaia</td>\n      <td>AR</td>\n      <td>2021-06-06 05:56:11</td>\n      <td>-54.8000</td>\n      <td>-68.3000</td>\n      <td>29.86</td>\n      <td>93</td>\n      <td>0</td>\n      <td>8.05</td>\n    </tr>\n  </tbody>\n</table>\n</div>"
     },
     "metadata": {},
     "execution_count": 9
    }
   ],
   "source": [
    "#Store the saved CSV created in part one into a data frame\n",
    "city_data_df = pd.read_csv('weather_data/cities.csv')\n",
    "city_data_df.head()"
   ]
  },
  {
   "cell_type": "code",
   "execution_count": 10,
   "metadata": {},
   "outputs": [
    {
     "output_type": "execute_result",
     "data": {
      "text/plain": [
       "City_ID         int64\n",
       "City           object\n",
       "Country        object\n",
       "Date           object\n",
       "Lat           float64\n",
       "Lng           float64\n",
       "Max Temp      float64\n",
       "Humidity        int64\n",
       "Cloudiness      int64\n",
       "Wind Speed    float64\n",
       "dtype: object"
      ]
     },
     "metadata": {},
     "execution_count": 10
    }
   ],
   "source": [
    "#Get the data types\n",
    "city_data_df.dtypes"
   ]
  },
  {
   "cell_type": "code",
   "execution_count": 11,
   "metadata": {},
   "outputs": [],
   "source": [
    "#Configure gmaps to use your Google API key\n",
    "gmaps.configure(api_key = g_key)"
   ]
  },
  {
   "cell_type": "code",
   "execution_count": 14,
   "metadata": {},
   "outputs": [],
   "source": [
    "# Create a Maximum Temperature Heatmap"
   ]
  },
  {
   "cell_type": "code",
   "execution_count": 12,
   "metadata": {},
   "outputs": [],
   "source": [
    "#Get the maximum temperature\n",
    "max_temp = city_data_df['Max Temp']\n",
    "temps = []\n",
    "for temp in max_temp:\n",
    "    temps.append(max(temp, 0))"
   ]
  },
  {
   "cell_type": "code",
   "execution_count": 15,
   "metadata": {},
   "outputs": [
    {
     "output_type": "display_data",
     "data": {
      "text/plain": "Figure(layout=FigureLayout(height='420px'))",
      "application/vnd.jupyter.widget-view+json": {
       "version_major": 2,
       "version_minor": 0,
       "model_id": "8a9884bf480e4baaa805e8db9ad0ef59"
      }
     },
     "metadata": {}
    }
   ],
   "source": [
    "#Get the latitude and longitude\n",
    "locations = city_data_df[['Lat', 'Lng']]\n",
    "\n",
    "#Assign the figure variable\n",
    "fig = gmaps.figure(center=(30.0, 31.0), zoom_level=1.5)\n",
    "#Assign heatmap variable\n",
    "heat_layer = gmaps.heatmap_layer(locations, weights=[max(temp,0) for temp in max_temp], \n",
    "                                 dissipating=False, max_intensity=300, point_radius=4)\n",
    "\n",
    "#Add the heatmap layer\n",
    "fig.add_layer(heat_layer)\n",
    "fig"
   ]
  },
  {
   "cell_type": "code",
   "execution_count": 16,
   "metadata": {},
   "outputs": [
    {
     "output_type": "display_data",
     "data": {
      "text/plain": "Figure(layout=FigureLayout(height='420px'))",
      "application/vnd.jupyter.widget-view+json": {
       "version_major": 2,
       "version_minor": 0,
       "model_id": "3b870637a2e54763908ee726ee6efae1"
      }
     },
     "metadata": {}
    }
   ],
   "source": [
    "locations = city_data_df[['Lat', 'Lng']]\n",
    "humidity = city_data_df['Humidity']\n",
    "fig = gmaps.figure(center=(30.0, 31), zoom_level=1.5)\n",
    "heat_layer = gmaps.heatmap_layer(locations, weights=humidity, \n",
    "                                 dissipating=False, max_intensity=300, point_radius=4)\n",
    "\n",
    "fig.add_layer(heat_layer)\n",
    "fig"
   ]
  },
  {
   "cell_type": "code",
   "execution_count": 17,
   "metadata": {},
   "outputs": [
    {
     "output_type": "display_data",
     "data": {
      "text/plain": "Figure(layout=FigureLayout(height='420px'))",
      "application/vnd.jupyter.widget-view+json": {
       "version_major": 2,
       "version_minor": 0,
       "model_id": "7d4b62da692b4e289804f3c9495b3ca0"
      }
     },
     "metadata": {}
    }
   ],
   "source": [
    "locations = city_data_df[['Lat', 'Lng']]\n",
    "clouds = city_data_df['Cloudiness']\n",
    "fig = gmaps.figure(center=(30.0, 31), zoom_level=1.5)\n",
    "heat_layer = gmaps.heatmap_layer(locations, weights=clouds, \n",
    "                                 dissipating=False, max_intensity=300, point_radius=4)\n",
    "\n",
    "fig.add_layer(heat_layer)\n",
    "fig"
   ]
  },
  {
   "cell_type": "code",
   "execution_count": 18,
   "metadata": {},
   "outputs": [
    {
     "output_type": "display_data",
     "data": {
      "text/plain": "Figure(layout=FigureLayout(height='420px'))",
      "application/vnd.jupyter.widget-view+json": {
       "version_major": 2,
       "version_minor": 0,
       "model_id": "e215edb0071f4445ad3043f27eb22e2a"
      }
     },
     "metadata": {}
    }
   ],
   "source": [
    "locations = city_data_df[['Lat', 'Lng']]\n",
    "wind = city_data_df['Wind Speed']\n",
    "fig = gmaps.figure(center=(30.0, 31), zoom_level=1.5)\n",
    "heat_layer = gmaps.heatmap_layer(locations, weights=wind, \n",
    "                                 dissipating=False, max_intensity=300, point_radius=4)\n",
    "\n",
    "fig.add_layer(heat_layer)\n",
    "fig"
   ]
  },
  {
   "cell_type": "code",
   "execution_count": 19,
   "metadata": {},
   "outputs": [],
   "source": [
    "#Ask the customer to add a minimum and maximum temperature value\n",
    "min_temp = float(input('What is the minimum temperature you would like for your trip? '))\n",
    "max_temp = float(input('What is the maximum temperature you would like for your trip? '))"
   ]
  },
  {
   "cell_type": "code",
   "execution_count": 20,
   "metadata": {},
   "outputs": [
    {
     "output_type": "execute_result",
     "data": {
      "text/plain": [
       "    City_ID             City Country                 Date      Lat       Lng  \\\n",
       "0         0            Kapaa      US  2021-06-06 05:59:15  22.0752 -159.3190   \n",
       "1         1            Kayes      ML  2021-06-06 05:59:16  14.0000  -11.0000   \n",
       "9         9        Boa Vista      BR  2021-06-06 05:54:33   2.8197  -60.6733   \n",
       "12       12           Baisha      CN  2021-06-06 05:59:18  26.5222  110.9311   \n",
       "13       13             Sola      VU  2021-06-06 05:59:18 -13.8833  167.5500   \n",
       "15       15        Loa Janan      ID  2021-06-06 05:59:19  -0.5830  117.0950   \n",
       "17       17             Biak      ID  2021-06-06 05:59:20  -0.9131  122.8766   \n",
       "22       22      Henties Bay     NaN  2021-06-06 05:59:21 -22.1160   14.2845   \n",
       "23       23        Bathsheba      BB  2021-06-06 05:59:21  13.2167  -59.5167   \n",
       "26       26  Lazaro Cardenas      MX  2021-06-06 05:59:22  17.9583 -102.2000   \n",
       "\n",
       "    Max Temp  Humidity  Cloudiness  Wind Speed  \n",
       "0      77.11        76          12        3.00  \n",
       "1      86.22        46          20       12.50  \n",
       "9      78.78        83          90        4.61  \n",
       "12     90.00        39          67        3.40  \n",
       "13     79.36        74          93       12.73  \n",
       "15     87.87        66          56        4.25  \n",
       "17     82.35        72          45        8.72  \n",
       "22     75.85        30           1       28.54  \n",
       "23     81.21        65          20       16.46  \n",
       "26     80.76        78          72        2.06  "
      ],
      "text/html": "<div>\n<style scoped>\n    .dataframe tbody tr th:only-of-type {\n        vertical-align: middle;\n    }\n\n    .dataframe tbody tr th {\n        vertical-align: top;\n    }\n\n    .dataframe thead th {\n        text-align: right;\n    }\n</style>\n<table border=\"1\" class=\"dataframe\">\n  <thead>\n    <tr style=\"text-align: right;\">\n      <th></th>\n      <th>City_ID</th>\n      <th>City</th>\n      <th>Country</th>\n      <th>Date</th>\n      <th>Lat</th>\n      <th>Lng</th>\n      <th>Max Temp</th>\n      <th>Humidity</th>\n      <th>Cloudiness</th>\n      <th>Wind Speed</th>\n    </tr>\n  </thead>\n  <tbody>\n    <tr>\n      <th>0</th>\n      <td>0</td>\n      <td>Kapaa</td>\n      <td>US</td>\n      <td>2021-06-06 05:59:15</td>\n      <td>22.0752</td>\n      <td>-159.3190</td>\n      <td>77.11</td>\n      <td>76</td>\n      <td>12</td>\n      <td>3.00</td>\n    </tr>\n    <tr>\n      <th>1</th>\n      <td>1</td>\n      <td>Kayes</td>\n      <td>ML</td>\n      <td>2021-06-06 05:59:16</td>\n      <td>14.0000</td>\n      <td>-11.0000</td>\n      <td>86.22</td>\n      <td>46</td>\n      <td>20</td>\n      <td>12.50</td>\n    </tr>\n    <tr>\n      <th>9</th>\n      <td>9</td>\n      <td>Boa Vista</td>\n      <td>BR</td>\n      <td>2021-06-06 05:54:33</td>\n      <td>2.8197</td>\n      <td>-60.6733</td>\n      <td>78.78</td>\n      <td>83</td>\n      <td>90</td>\n      <td>4.61</td>\n    </tr>\n    <tr>\n      <th>12</th>\n      <td>12</td>\n      <td>Baisha</td>\n      <td>CN</td>\n      <td>2021-06-06 05:59:18</td>\n      <td>26.5222</td>\n      <td>110.9311</td>\n      <td>90.00</td>\n      <td>39</td>\n      <td>67</td>\n      <td>3.40</td>\n    </tr>\n    <tr>\n      <th>13</th>\n      <td>13</td>\n      <td>Sola</td>\n      <td>VU</td>\n      <td>2021-06-06 05:59:18</td>\n      <td>-13.8833</td>\n      <td>167.5500</td>\n      <td>79.36</td>\n      <td>74</td>\n      <td>93</td>\n      <td>12.73</td>\n    </tr>\n    <tr>\n      <th>15</th>\n      <td>15</td>\n      <td>Loa Janan</td>\n      <td>ID</td>\n      <td>2021-06-06 05:59:19</td>\n      <td>-0.5830</td>\n      <td>117.0950</td>\n      <td>87.87</td>\n      <td>66</td>\n      <td>56</td>\n      <td>4.25</td>\n    </tr>\n    <tr>\n      <th>17</th>\n      <td>17</td>\n      <td>Biak</td>\n      <td>ID</td>\n      <td>2021-06-06 05:59:20</td>\n      <td>-0.9131</td>\n      <td>122.8766</td>\n      <td>82.35</td>\n      <td>72</td>\n      <td>45</td>\n      <td>8.72</td>\n    </tr>\n    <tr>\n      <th>22</th>\n      <td>22</td>\n      <td>Henties Bay</td>\n      <td>NaN</td>\n      <td>2021-06-06 05:59:21</td>\n      <td>-22.1160</td>\n      <td>14.2845</td>\n      <td>75.85</td>\n      <td>30</td>\n      <td>1</td>\n      <td>28.54</td>\n    </tr>\n    <tr>\n      <th>23</th>\n      <td>23</td>\n      <td>Bathsheba</td>\n      <td>BB</td>\n      <td>2021-06-06 05:59:21</td>\n      <td>13.2167</td>\n      <td>-59.5167</td>\n      <td>81.21</td>\n      <td>65</td>\n      <td>20</td>\n      <td>16.46</td>\n    </tr>\n    <tr>\n      <th>26</th>\n      <td>26</td>\n      <td>Lazaro Cardenas</td>\n      <td>MX</td>\n      <td>2021-06-06 05:59:22</td>\n      <td>17.9583</td>\n      <td>-102.2000</td>\n      <td>80.76</td>\n      <td>78</td>\n      <td>72</td>\n      <td>2.06</td>\n    </tr>\n  </tbody>\n</table>\n</div>"
     },
     "metadata": {},
     "execution_count": 20
    }
   ],
   "source": [
    "#Filter the data set to find the cities that fit the crieteria\n",
    "preferred_cities_df = city_data_df.loc[(city_data_df['Max Temp'] <= max_temp) & \\\n",
    "                                       (city_data_df['Max Temp'] >= min_temp)]\n",
    "preferred_cities_df.head(10)"
   ]
  },
  {
   "cell_type": "code",
   "execution_count": 21,
   "metadata": {},
   "outputs": [
    {
     "output_type": "execute_result",
     "data": {
      "text/plain": [
       "City_ID       167\n",
       "City          167\n",
       "Country       166\n",
       "Date          167\n",
       "Lat           167\n",
       "Lng           167\n",
       "Max Temp      167\n",
       "Humidity      167\n",
       "Cloudiness    167\n",
       "Wind Speed    167\n",
       "dtype: int64"
      ]
     },
     "metadata": {},
     "execution_count": 21
    }
   ],
   "source": [
    "\n",
    "preferred_cities_df.count()"
   ]
  },
  {
   "cell_type": "code",
   "execution_count": 22,
   "metadata": {},
   "outputs": [
    {
     "output_type": "execute_result",
     "data": {
      "text/plain": [
       "               City Country  Max Temp      Lat       Lng Hotel Name\n",
       "0             Kapaa      US     77.11  22.0752 -159.3190           \n",
       "1             Kayes      ML     86.22  14.0000  -11.0000           \n",
       "9         Boa Vista      BR     78.78   2.8197  -60.6733           \n",
       "12           Baisha      CN     90.00  26.5222  110.9311           \n",
       "13             Sola      VU     79.36 -13.8833  167.5500           \n",
       "15        Loa Janan      ID     87.87  -0.5830  117.0950           \n",
       "17             Biak      ID     82.35  -0.9131  122.8766           \n",
       "22      Henties Bay     NaN     75.85 -22.1160   14.2845           \n",
       "23        Bathsheba      BB     81.21  13.2167  -59.5167           \n",
       "26  Lazaro Cardenas      MX     80.76  17.9583 -102.2000           "
      ],
      "text/html": "<div>\n<style scoped>\n    .dataframe tbody tr th:only-of-type {\n        vertical-align: middle;\n    }\n\n    .dataframe tbody tr th {\n        vertical-align: top;\n    }\n\n    .dataframe thead th {\n        text-align: right;\n    }\n</style>\n<table border=\"1\" class=\"dataframe\">\n  <thead>\n    <tr style=\"text-align: right;\">\n      <th></th>\n      <th>City</th>\n      <th>Country</th>\n      <th>Max Temp</th>\n      <th>Lat</th>\n      <th>Lng</th>\n      <th>Hotel Name</th>\n    </tr>\n  </thead>\n  <tbody>\n    <tr>\n      <th>0</th>\n      <td>Kapaa</td>\n      <td>US</td>\n      <td>77.11</td>\n      <td>22.0752</td>\n      <td>-159.3190</td>\n      <td></td>\n    </tr>\n    <tr>\n      <th>1</th>\n      <td>Kayes</td>\n      <td>ML</td>\n      <td>86.22</td>\n      <td>14.0000</td>\n      <td>-11.0000</td>\n      <td></td>\n    </tr>\n    <tr>\n      <th>9</th>\n      <td>Boa Vista</td>\n      <td>BR</td>\n      <td>78.78</td>\n      <td>2.8197</td>\n      <td>-60.6733</td>\n      <td></td>\n    </tr>\n    <tr>\n      <th>12</th>\n      <td>Baisha</td>\n      <td>CN</td>\n      <td>90.00</td>\n      <td>26.5222</td>\n      <td>110.9311</td>\n      <td></td>\n    </tr>\n    <tr>\n      <th>13</th>\n      <td>Sola</td>\n      <td>VU</td>\n      <td>79.36</td>\n      <td>-13.8833</td>\n      <td>167.5500</td>\n      <td></td>\n    </tr>\n    <tr>\n      <th>15</th>\n      <td>Loa Janan</td>\n      <td>ID</td>\n      <td>87.87</td>\n      <td>-0.5830</td>\n      <td>117.0950</td>\n      <td></td>\n    </tr>\n    <tr>\n      <th>17</th>\n      <td>Biak</td>\n      <td>ID</td>\n      <td>82.35</td>\n      <td>-0.9131</td>\n      <td>122.8766</td>\n      <td></td>\n    </tr>\n    <tr>\n      <th>22</th>\n      <td>Henties Bay</td>\n      <td>NaN</td>\n      <td>75.85</td>\n      <td>-22.1160</td>\n      <td>14.2845</td>\n      <td></td>\n    </tr>\n    <tr>\n      <th>23</th>\n      <td>Bathsheba</td>\n      <td>BB</td>\n      <td>81.21</td>\n      <td>13.2167</td>\n      <td>-59.5167</td>\n      <td></td>\n    </tr>\n    <tr>\n      <th>26</th>\n      <td>Lazaro Cardenas</td>\n      <td>MX</td>\n      <td>80.76</td>\n      <td>17.9583</td>\n      <td>-102.2000</td>\n      <td></td>\n    </tr>\n  </tbody>\n</table>\n</div>"
     },
     "metadata": {},
     "execution_count": 22
    }
   ],
   "source": [
    "#Create a data frame called hotel_df to store hotel names along with city, country, max temp, and coordinates\n",
    "hotel_df = preferred_cities_df[['City', 'Country', 'Max Temp', 'Lat', 'Lng']].copy()\n",
    "hotel_df['Hotel Name'] = ''\n",
    "hotel_df.head(10)"
   ]
  },
  {
   "cell_type": "code",
   "execution_count": 23,
   "metadata": {},
   "outputs": [
    {
     "output_type": "stream",
     "name": "stdout",
     "text": [
      "Hotel not found... skipping.\n",
      "Hotel not found... skipping.\n",
      "Hotel not found... skipping.\n",
      "Hotel not found... skipping.\n",
      "Hotel not found... skipping.\n",
      "Hotel not found... skipping.\n",
      "Hotel not found... skipping.\n",
      "Hotel not found... skipping.\n",
      "Hotel not found... skipping.\n",
      "Hotel not found... skipping.\n",
      "Hotel not found... skipping.\n",
      "Hotel not found... skipping.\n",
      "Hotel not found... skipping.\n",
      "Hotel not found... skipping.\n",
      "Hotel not found... skipping.\n"
     ]
    }
   ],
   "source": [
    "#Set parameters to search for a hotel\n",
    "params = {\n",
    "    'radius': 5000,\n",
    "    'type': 'lodging',\n",
    "    'key': g_key\n",
    "}\n",
    "\n",
    "#Iterate through the data frame\n",
    "for index, row in hotel_df.iterrows():\n",
    "    #Get the latitude and longitude\n",
    "    lat = row['Lat']\n",
    "    lng = row['Lng']\n",
    "    \n",
    "    #Add the latitude and longitude to location key for the params dictionary\n",
    "    params['location'] = f\"{lat},{lng}\"\n",
    "    \n",
    "    #Use the search term: \"lodging\" and our latitude and longitude\n",
    "    base_url = 'https://maps.googleapis.com/maps/api/place/nearbysearch/json'\n",
    "    #Make request and get the JSON data from the search\n",
    "    hotels = requests.get(base_url, params=params).json()\n",
    "    #Grab the first hotel from the results and store the name\n",
    "    try:\n",
    "        hotel_df.loc[index, 'Hotel Name'] = hotels['results'][0]['name']\n",
    "    except (IndexError):\n",
    "        print('Hotel not found... skipping.')"
   ]
  },
  {
   "cell_type": "code",
   "execution_count": 24,
   "metadata": {},
   "outputs": [
    {
     "output_type": "execute_result",
     "data": {
      "text/plain": [
       "               City Country  Max Temp      Lat       Lng  \\\n",
       "0             Kapaa      US     77.11  22.0752 -159.3190   \n",
       "1             Kayes      ML     86.22  14.0000  -11.0000   \n",
       "9         Boa Vista      BR     78.78   2.8197  -60.6733   \n",
       "12           Baisha      CN     90.00  26.5222  110.9311   \n",
       "13             Sola      VU     79.36 -13.8833  167.5500   \n",
       "15        Loa Janan      ID     87.87  -0.5830  117.0950   \n",
       "17             Biak      ID     82.35  -0.9131  122.8766   \n",
       "22      Henties Bay     NaN     75.85 -22.1160   14.2845   \n",
       "23        Bathsheba      BB     81.21  13.2167  -59.5167   \n",
       "26  Lazaro Cardenas      MX     80.76  17.9583 -102.2000   \n",
       "\n",
       "                             Hotel Name  \n",
       "0   Sheraton Kauai Coconut Beach Resort  \n",
       "1                                        \n",
       "9                    Aipana Plaza Hotel  \n",
       "12                                       \n",
       "13                   Leumerus Bungalows  \n",
       "15                      Pondok hijau 2A  \n",
       "17                       Penginapan Kim  \n",
       "22               Fishermans Guest House  \n",
       "23                       Atlantis Hotel  \n",
       "26                       quinta antigua  "
      ],
      "text/html": "<div>\n<style scoped>\n    .dataframe tbody tr th:only-of-type {\n        vertical-align: middle;\n    }\n\n    .dataframe tbody tr th {\n        vertical-align: top;\n    }\n\n    .dataframe thead th {\n        text-align: right;\n    }\n</style>\n<table border=\"1\" class=\"dataframe\">\n  <thead>\n    <tr style=\"text-align: right;\">\n      <th></th>\n      <th>City</th>\n      <th>Country</th>\n      <th>Max Temp</th>\n      <th>Lat</th>\n      <th>Lng</th>\n      <th>Hotel Name</th>\n    </tr>\n  </thead>\n  <tbody>\n    <tr>\n      <th>0</th>\n      <td>Kapaa</td>\n      <td>US</td>\n      <td>77.11</td>\n      <td>22.0752</td>\n      <td>-159.3190</td>\n      <td>Sheraton Kauai Coconut Beach Resort</td>\n    </tr>\n    <tr>\n      <th>1</th>\n      <td>Kayes</td>\n      <td>ML</td>\n      <td>86.22</td>\n      <td>14.0000</td>\n      <td>-11.0000</td>\n      <td></td>\n    </tr>\n    <tr>\n      <th>9</th>\n      <td>Boa Vista</td>\n      <td>BR</td>\n      <td>78.78</td>\n      <td>2.8197</td>\n      <td>-60.6733</td>\n      <td>Aipana Plaza Hotel</td>\n    </tr>\n    <tr>\n      <th>12</th>\n      <td>Baisha</td>\n      <td>CN</td>\n      <td>90.00</td>\n      <td>26.5222</td>\n      <td>110.9311</td>\n      <td></td>\n    </tr>\n    <tr>\n      <th>13</th>\n      <td>Sola</td>\n      <td>VU</td>\n      <td>79.36</td>\n      <td>-13.8833</td>\n      <td>167.5500</td>\n      <td>Leumerus Bungalows</td>\n    </tr>\n    <tr>\n      <th>15</th>\n      <td>Loa Janan</td>\n      <td>ID</td>\n      <td>87.87</td>\n      <td>-0.5830</td>\n      <td>117.0950</td>\n      <td>Pondok hijau 2A</td>\n    </tr>\n    <tr>\n      <th>17</th>\n      <td>Biak</td>\n      <td>ID</td>\n      <td>82.35</td>\n      <td>-0.9131</td>\n      <td>122.8766</td>\n      <td>Penginapan Kim</td>\n    </tr>\n    <tr>\n      <th>22</th>\n      <td>Henties Bay</td>\n      <td>NaN</td>\n      <td>75.85</td>\n      <td>-22.1160</td>\n      <td>14.2845</td>\n      <td>Fishermans Guest House</td>\n    </tr>\n    <tr>\n      <th>23</th>\n      <td>Bathsheba</td>\n      <td>BB</td>\n      <td>81.21</td>\n      <td>13.2167</td>\n      <td>-59.5167</td>\n      <td>Atlantis Hotel</td>\n    </tr>\n    <tr>\n      <th>26</th>\n      <td>Lazaro Cardenas</td>\n      <td>MX</td>\n      <td>80.76</td>\n      <td>17.9583</td>\n      <td>-102.2000</td>\n      <td>quinta antigua</td>\n    </tr>\n  </tbody>\n</table>\n</div>"
     },
     "metadata": {},
     "execution_count": 24
    }
   ],
   "source": [
    "hotel_df.head(10)"
   ]
  },
  {
   "cell_type": "code",
   "execution_count": 25,
   "metadata": {},
   "outputs": [
    {
     "output_type": "display_data",
     "data": {
      "text/plain": "Figure(layout=FigureLayout(height='420px'))",
      "application/vnd.jupyter.widget-view+json": {
       "version_major": 2,
       "version_minor": 0,
       "model_id": "bcfaab0e4d424bd9a6a638d16669126c"
      }
     },
     "metadata": {}
    }
   ],
   "source": [
    "#Add a heatmap of temperature for vacation spots\n",
    "locations = hotel_df[['Lat', 'Lng']]\n",
    "max_temp = hotel_df['Max Temp']\n",
    "fig = gmaps.figure(center=(30.0, 31.0), zoom_level=1.5)\n",
    "heat_layer = gmaps.heatmap_layer(locations, weights=max_temp, dissipating=False, \n",
    "                                 max_intensity=300, point_radius=4)\n",
    "marker_layer = gmaps.marker_layer(locations)\n",
    "\n",
    "fig.add_layer(heat_layer)\n",
    "fig.add_layer(marker_layer)\n",
    "fig"
   ]
  },
  {
   "cell_type": "code",
   "execution_count": 26,
   "metadata": {},
   "outputs": [],
   "source": [
    "info_box_template = \"\"\"\n",
    "<dl>\n",
    "<dt>Hotel Name</dt><dd>{Hotel Name}</dd>\n",
    "<dt>City</dt><dd>{City}</dd>\n",
    "<dt>Country</dt><dd>{Country}</dd>\n",
    "<dt>Max Temp</dt><dd>{Max Temp} °F</dd>\n",
    "</dl>\n",
    "\"\"\"\n",
    "\n",
    "#Store the data frame row\n",
    "hotel_info = [info_box_template.format(**row) for index, row in hotel_df.iterrows()]\n",
    "\n",
    " ### Code Breakdown ###\n",
    " #Set hotel_info equal to the info_box_content\n",
    " #In the list comprehension, each \"row\" of hotel_df is iteratted and then formatted into the template\n",
    " #Only rows defined in the info_box_template are used, which are hotel name, city, country, max temp"
   ]
  },
  {
   "cell_type": "code",
   "execution_count": 27,
   "metadata": {},
   "outputs": [
    {
     "output_type": "display_data",
     "data": {
      "text/plain": "Figure(layout=FigureLayout(height='420px'))",
      "application/vnd.jupyter.widget-view+json": {
       "version_major": 2,
       "version_minor": 0,
       "model_id": "4d39964c22aa40e48168bd4c84cebba6"
      }
     },
     "metadata": {}
    }
   ],
   "source": [
    "#Add a heatmap of temperature for vacation spots and a pop-up marker for each city\n",
    "locations = hotel_df[['Lat', 'Lng']]\n",
    "max_temp = hotel_df['Max Temp']\n",
    "fig = gmaps.figure(center=(30.0, 31.0), zoom_level=1.5)\n",
    "heat_layer = gmaps.heatmap_layer(locations, weights=max_temp, dissipating=False, \n",
    "                                 max_intensity=300, point_radius=4)\n",
    "marker_layer = gmaps.marker_layer(locations, info_box_content=hotel_info)\n",
    "fig.add_layer(heat_layer)\n",
    "fig.add_layer(marker_layer)\n",
    "\n",
    "fig\n"
   ]
  },
  {
   "cell_type": "code",
   "execution_count": null,
   "metadata": {},
   "outputs": [],
   "source": []
  }
 ]
}